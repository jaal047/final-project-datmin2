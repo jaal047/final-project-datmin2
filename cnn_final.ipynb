{
 "cells": [
  {
   "cell_type": "code",
   "execution_count": 1,
   "metadata": {},
   "outputs": [],
   "source": [
    "import pandas as pd\n",
    "import numpy as np\n",
    "import matplotlib.pyplot as plt\n",
    "from keras.preprocessing.image import ImageDataGenerator\n",
    "from keras.layers import Dense, Flatten, Dropout, ZeroPadding3D\n",
    "from keras.layers import LSTM, Bidirectional\n",
    "from keras.models import Sequential, load_model\n",
    "from keras.optimizers import Adam, RMSprop\n",
    "from keras.layers import TimeDistributed, Activation, MaxPooling1D, Embedding\n",
    "from keras.layers.convolutional import (Conv2D, MaxPooling3D, Conv3D,\n",
    "    MaxPooling2D)\n",
    "from sklearn.metrics import confusion_matrix, classification_report, accuracy_score, roc_curve, roc_auc_score, auc, precision_recall_curve, f1_score"
   ]
  },
  {
   "cell_type": "code",
   "execution_count": 7,
   "metadata": {},
   "outputs": [],
   "source": [
    "class CONFIG:\n",
    "    TRAIN_DATA_PATH = 'images/TRAIN_TEST/train/train.csv'\n",
    "    TEST_DATA_PATH = 'images/TRAIN_TEST/val/test.csv'"
   ]
  },
  {
   "cell_type": "code",
   "execution_count": 8,
   "metadata": {},
   "outputs": [],
   "source": [
    "#Define train test\n",
    "df_train = pd.read_csv(CONFIG.TRAIN_DATA_PATH)\n",
    "df_test = pd.read_csv(CONFIG.TEST_DATA_PATH)"
   ]
  },
  {
   "cell_type": "code",
   "execution_count": 9,
   "metadata": {},
   "outputs": [
    {
     "data": {
      "text/html": [
       "<div>\n",
       "<style scoped>\n",
       "    .dataframe tbody tr th:only-of-type {\n",
       "        vertical-align: middle;\n",
       "    }\n",
       "\n",
       "    .dataframe tbody tr th {\n",
       "        vertical-align: top;\n",
       "    }\n",
       "\n",
       "    .dataframe thead th {\n",
       "        text-align: right;\n",
       "    }\n",
       "</style>\n",
       "<table border=\"1\" class=\"dataframe\">\n",
       "  <thead>\n",
       "    <tr style=\"text-align: right;\">\n",
       "      <th></th>\n",
       "      <th>label</th>\n",
       "      <th>pixels_1</th>\n",
       "      <th>pixels_2</th>\n",
       "      <th>pixels_3</th>\n",
       "      <th>pixels_4</th>\n",
       "      <th>pixels_5</th>\n",
       "      <th>pixels_6</th>\n",
       "      <th>pixels_7</th>\n",
       "      <th>pixels_8</th>\n",
       "      <th>pixels_9</th>\n",
       "      <th>...</th>\n",
       "      <th>pixels_4087</th>\n",
       "      <th>pixels_4088</th>\n",
       "      <th>pixels_4089</th>\n",
       "      <th>pixels_4090</th>\n",
       "      <th>pixels_4091</th>\n",
       "      <th>pixels_4092</th>\n",
       "      <th>pixels_4093</th>\n",
       "      <th>pixels_4094</th>\n",
       "      <th>pixels_4095</th>\n",
       "      <th>pixels_4096</th>\n",
       "    </tr>\n",
       "  </thead>\n",
       "  <tbody>\n",
       "    <tr>\n",
       "      <th>0</th>\n",
       "      <td>0</td>\n",
       "      <td>156</td>\n",
       "      <td>156</td>\n",
       "      <td>159</td>\n",
       "      <td>156</td>\n",
       "      <td>155</td>\n",
       "      <td>160</td>\n",
       "      <td>159</td>\n",
       "      <td>159</td>\n",
       "      <td>160</td>\n",
       "      <td>...</td>\n",
       "      <td>43</td>\n",
       "      <td>42</td>\n",
       "      <td>43</td>\n",
       "      <td>42</td>\n",
       "      <td>43</td>\n",
       "      <td>43</td>\n",
       "      <td>46</td>\n",
       "      <td>42</td>\n",
       "      <td>38</td>\n",
       "      <td>39</td>\n",
       "    </tr>\n",
       "    <tr>\n",
       "      <th>1</th>\n",
       "      <td>0</td>\n",
       "      <td>173</td>\n",
       "      <td>176</td>\n",
       "      <td>175</td>\n",
       "      <td>174</td>\n",
       "      <td>174</td>\n",
       "      <td>173</td>\n",
       "      <td>173</td>\n",
       "      <td>172</td>\n",
       "      <td>172</td>\n",
       "      <td>...</td>\n",
       "      <td>34</td>\n",
       "      <td>36</td>\n",
       "      <td>45</td>\n",
       "      <td>43</td>\n",
       "      <td>41</td>\n",
       "      <td>37</td>\n",
       "      <td>43</td>\n",
       "      <td>40</td>\n",
       "      <td>44</td>\n",
       "      <td>48</td>\n",
       "    </tr>\n",
       "    <tr>\n",
       "      <th>2</th>\n",
       "      <td>0</td>\n",
       "      <td>156</td>\n",
       "      <td>157</td>\n",
       "      <td>158</td>\n",
       "      <td>157</td>\n",
       "      <td>156</td>\n",
       "      <td>158</td>\n",
       "      <td>157</td>\n",
       "      <td>160</td>\n",
       "      <td>164</td>\n",
       "      <td>...</td>\n",
       "      <td>40</td>\n",
       "      <td>41</td>\n",
       "      <td>41</td>\n",
       "      <td>41</td>\n",
       "      <td>40</td>\n",
       "      <td>45</td>\n",
       "      <td>44</td>\n",
       "      <td>42</td>\n",
       "      <td>44</td>\n",
       "      <td>43</td>\n",
       "    </tr>\n",
       "    <tr>\n",
       "      <th>3</th>\n",
       "      <td>0</td>\n",
       "      <td>219</td>\n",
       "      <td>219</td>\n",
       "      <td>220</td>\n",
       "      <td>219</td>\n",
       "      <td>220</td>\n",
       "      <td>221</td>\n",
       "      <td>222</td>\n",
       "      <td>223</td>\n",
       "      <td>224</td>\n",
       "      <td>...</td>\n",
       "      <td>2</td>\n",
       "      <td>7</td>\n",
       "      <td>24</td>\n",
       "      <td>25</td>\n",
       "      <td>32</td>\n",
       "      <td>35</td>\n",
       "      <td>33</td>\n",
       "      <td>35</td>\n",
       "      <td>38</td>\n",
       "      <td>33</td>\n",
       "    </tr>\n",
       "    <tr>\n",
       "      <th>4</th>\n",
       "      <td>0</td>\n",
       "      <td>221</td>\n",
       "      <td>220</td>\n",
       "      <td>222</td>\n",
       "      <td>221</td>\n",
       "      <td>222</td>\n",
       "      <td>219</td>\n",
       "      <td>219</td>\n",
       "      <td>221</td>\n",
       "      <td>220</td>\n",
       "      <td>...</td>\n",
       "      <td>20</td>\n",
       "      <td>5</td>\n",
       "      <td>2</td>\n",
       "      <td>10</td>\n",
       "      <td>20</td>\n",
       "      <td>31</td>\n",
       "      <td>35</td>\n",
       "      <td>36</td>\n",
       "      <td>34</td>\n",
       "      <td>34</td>\n",
       "    </tr>\n",
       "  </tbody>\n",
       "</table>\n",
       "<p>5 rows × 4097 columns</p>\n",
       "</div>"
      ],
      "text/plain": [
       "   label  pixels_1  pixels_2  pixels_3  pixels_4  pixels_5  pixels_6  \\\n",
       "0      0       156       156       159       156       155       160   \n",
       "1      0       173       176       175       174       174       173   \n",
       "2      0       156       157       158       157       156       158   \n",
       "3      0       219       219       220       219       220       221   \n",
       "4      0       221       220       222       221       222       219   \n",
       "\n",
       "   pixels_7  pixels_8  pixels_9  ...  pixels_4087  pixels_4088  pixels_4089  \\\n",
       "0       159       159       160  ...           43           42           43   \n",
       "1       173       172       172  ...           34           36           45   \n",
       "2       157       160       164  ...           40           41           41   \n",
       "3       222       223       224  ...            2            7           24   \n",
       "4       219       221       220  ...           20            5            2   \n",
       "\n",
       "   pixels_4090  pixels_4091  pixels_4092  pixels_4093  pixels_4094  \\\n",
       "0           42           43           43           46           42   \n",
       "1           43           41           37           43           40   \n",
       "2           41           40           45           44           42   \n",
       "3           25           32           35           33           35   \n",
       "4           10           20           31           35           36   \n",
       "\n",
       "   pixels_4095  pixels_4096  \n",
       "0           38           39  \n",
       "1           44           48  \n",
       "2           44           43  \n",
       "3           38           33  \n",
       "4           34           34  \n",
       "\n",
       "[5 rows x 4097 columns]"
      ]
     },
     "execution_count": 9,
     "metadata": {},
     "output_type": "execute_result"
    }
   ],
   "source": [
    "df_train.head()"
   ]
  },
  {
   "cell_type": "code",
   "execution_count": 10,
   "metadata": {},
   "outputs": [],
   "source": [
    "#preprocess\n",
    "y_train = df_train['label']\n",
    "y_test = df_test['label']"
   ]
  },
  {
   "cell_type": "code",
   "execution_count": 11,
   "metadata": {},
   "outputs": [],
   "source": [
    "x_train = df_train.drop(columns=['label'], axis=1)\n",
    "x_test = df_test.drop(columns=['label'], axis=1)"
   ]
  },
  {
   "cell_type": "code",
   "execution_count": 12,
   "metadata": {},
   "outputs": [],
   "source": [
    "x_train = x_train.values\n",
    "x_test = x_test.values"
   ]
  },
  {
   "cell_type": "code",
   "execution_count": 13,
   "metadata": {},
   "outputs": [],
   "source": [
    "#normalize\n",
    "x_train = x_train/255\n",
    "x_test = x_test/255"
   ]
  },
  {
   "cell_type": "code",
   "execution_count": 14,
   "metadata": {},
   "outputs": [
    {
     "data": {
      "text/plain": [
       "(139, 4096)"
      ]
     },
     "execution_count": 14,
     "metadata": {},
     "output_type": "execute_result"
    }
   ],
   "source": [
    "x_train.shape"
   ]
  },
  {
   "cell_type": "code",
   "execution_count": 15,
   "metadata": {},
   "outputs": [],
   "source": [
    "#reshape to 3D\n",
    "x_train = x_train.reshape(-1, 64, 64, 1)\n",
    "x_test = x_test.reshape(-1, 64, 64, 1)"
   ]
  },
  {
   "cell_type": "code",
   "execution_count": 16,
   "metadata": {},
   "outputs": [
    {
     "name": "stdout",
     "output_type": "stream",
     "text": [
      "(139, 64, 64, 1)\n",
      "(36, 64, 64, 1)\n"
     ]
    }
   ],
   "source": [
    "print(x_train.shape)\n",
    "print(x_test.shape)"
   ]
  },
  {
   "cell_type": "code",
   "execution_count": 17,
   "metadata": {},
   "outputs": [],
   "source": [
    "#augmentation\n",
    "datagenerator = ImageDataGenerator(\n",
    "    rotation_range=10,  # randomly rotate images in the range (degrees, 0 to 180)\n",
    "    zoom_range=0.1,  # Randomly zoom image\n",
    "    width_shift_range=0.1,  # randomly shift images horizontally (fraction of total width)\n",
    "    height_shift_range=0.1,  # randomly shift images vertically (fraction of total height)\n",
    "    horizontal_flip=True,  # randomly flip images\n",
    "    vertical_flip=True,    # randomly flip images\n",
    ")\n",
    "\n",
    "train_data = datagenerator.flow(x_train, y_train)"
   ]
  },
  {
   "cell_type": "code",
   "execution_count": 21,
   "metadata": {},
   "outputs": [
    {
     "name": "stdout",
     "output_type": "stream",
     "text": [
      "Model: \"sequential_1\"\n",
      "_________________________________________________________________\n",
      " Layer (type)                Output Shape              Param #   \n",
      "=================================================================\n",
      " conv2d_3 (Conv2D)           (None, 64, 64, 16)        160       \n",
      "                                                                 \n",
      " max_pooling2d_3 (MaxPooling  (None, 32, 32, 16)       0         \n",
      " 2D)                                                             \n",
      "                                                                 \n",
      " conv2d_4 (Conv2D)           (None, 32, 32, 32)        4640      \n",
      "                                                                 \n",
      " max_pooling2d_4 (MaxPooling  (None, 16, 16, 32)       0         \n",
      " 2D)                                                             \n",
      "                                                                 \n",
      " flatten_1 (Flatten)         (None, 8192)              0         \n",
      "                                                                 \n",
      " dense_3 (Dense)             (None, 512)               4194816   \n",
      "                                                                 \n",
      " dense_4 (Dense)             (None, 108)               55404     \n",
      "                                                                 \n",
      " dense_5 (Dense)             (None, 1)                 109       \n",
      "                                                                 \n",
      "=================================================================\n",
      "Total params: 4,255,129\n",
      "Trainable params: 4,255,129\n",
      "Non-trainable params: 0\n",
      "_________________________________________________________________\n"
     ]
    },
    {
     "name": "stderr",
     "output_type": "stream",
     "text": [
      "c:\\Users\\Hanif\\AppData\\Local\\Programs\\Python\\Python39\\lib\\site-packages\\keras\\optimizers\\optimizer_v2\\adam.py:117: UserWarning: The `lr` argument is deprecated, use `learning_rate` instead.\n",
      "  super().__init__(name, **kwargs)\n"
     ]
    }
   ],
   "source": [
    "#CNN\n",
    "\n",
    "cnn = Sequential([\n",
    "    Conv2D(filters=16, kernel_size=(3,3), input_shape=(64,64,1), activation='relu', padding='same'),\n",
    "    MaxPooling2D((2,2)),\n",
    "    Conv2D(filters=32, kernel_size=(3,3), activation='relu', padding='same'),\n",
    "    MaxPooling2D((2,2)),\n",
    "    Flatten(),\n",
    "    Dense(512, activation='relu'),\n",
    "    Dense(108, activation='relu'),\n",
    "    Dense(1, activation='sigmoid')\n",
    "])\n",
    "\n",
    "optimizer = Adam(lr=0.001)\n",
    "cnn.compile(optimizer=optimizer, loss='binary_crossentropy', metrics=['accuracy'])\n",
    "\n",
    "cnn.summary()"
   ]
  },
  {
   "cell_type": "code",
   "execution_count": 22,
   "metadata": {},
   "outputs": [
    {
     "name": "stdout",
     "output_type": "stream",
     "text": [
      "Epoch 1/100\n",
      "5/5 [==============================] - 1s 114ms/step - loss: 0.8371 - accuracy: 0.4820 - val_loss: 0.7057 - val_accuracy: 0.5000\n",
      "Epoch 2/100\n",
      "5/5 [==============================] - 0s 52ms/step - loss: 0.7106 - accuracy: 0.4245 - val_loss: 0.6930 - val_accuracy: 0.5000\n",
      "Epoch 3/100\n",
      "5/5 [==============================] - 0s 53ms/step - loss: 0.6958 - accuracy: 0.4820 - val_loss: 0.6935 - val_accuracy: 0.5000\n",
      "Epoch 4/100\n",
      "5/5 [==============================] - 0s 68ms/step - loss: 0.6922 - accuracy: 0.5108 - val_loss: 0.6923 - val_accuracy: 0.5000\n",
      "Epoch 5/100\n",
      "5/5 [==============================] - 0s 62ms/step - loss: 0.6907 - accuracy: 0.5108 - val_loss: 0.6927 - val_accuracy: 0.5000\n",
      "Epoch 6/100\n",
      "5/5 [==============================] - 0s 51ms/step - loss: 0.6901 - accuracy: 0.5108 - val_loss: 0.6915 - val_accuracy: 0.5278\n",
      "Epoch 7/100\n",
      "5/5 [==============================] - 0s 52ms/step - loss: 0.6893 - accuracy: 0.5252 - val_loss: 0.6904 - val_accuracy: 0.4722\n",
      "Epoch 8/100\n",
      "5/5 [==============================] - 0s 55ms/step - loss: 0.6874 - accuracy: 0.5683 - val_loss: 0.6910 - val_accuracy: 0.5278\n",
      "Epoch 9/100\n",
      "5/5 [==============================] - 0s 55ms/step - loss: 0.6852 - accuracy: 0.5755 - val_loss: 0.6918 - val_accuracy: 0.5278\n",
      "Epoch 10/100\n",
      "5/5 [==============================] - 0s 53ms/step - loss: 0.6829 - accuracy: 0.5612 - val_loss: 0.6931 - val_accuracy: 0.5556\n",
      "Epoch 11/100\n",
      "5/5 [==============================] - 0s 58ms/step - loss: 0.6796 - accuracy: 0.6043 - val_loss: 0.6990 - val_accuracy: 0.5000\n",
      "Epoch 12/100\n",
      "5/5 [==============================] - 0s 63ms/step - loss: 0.6679 - accuracy: 0.6115 - val_loss: 0.6968 - val_accuracy: 0.5556\n",
      "Epoch 13/100\n",
      "5/5 [==============================] - 0s 58ms/step - loss: 0.6594 - accuracy: 0.6043 - val_loss: 0.7233 - val_accuracy: 0.4722\n",
      "Epoch 14/100\n",
      "5/5 [==============================] - 0s 53ms/step - loss: 0.6726 - accuracy: 0.6043 - val_loss: 0.7058 - val_accuracy: 0.5833\n",
      "Epoch 15/100\n",
      "5/5 [==============================] - 0s 52ms/step - loss: 0.6746 - accuracy: 0.5540 - val_loss: 0.6889 - val_accuracy: 0.5556\n",
      "Epoch 16/100\n",
      "5/5 [==============================] - 0s 52ms/step - loss: 0.6705 - accuracy: 0.5683 - val_loss: 0.6866 - val_accuracy: 0.5833\n",
      "Epoch 17/100\n",
      "5/5 [==============================] - 0s 54ms/step - loss: 0.6472 - accuracy: 0.6691 - val_loss: 0.7003 - val_accuracy: 0.5000\n",
      "Epoch 18/100\n",
      "5/5 [==============================] - 0s 56ms/step - loss: 0.6578 - accuracy: 0.6115 - val_loss: 0.6850 - val_accuracy: 0.5833\n",
      "Epoch 19/100\n",
      "5/5 [==============================] - 0s 49ms/step - loss: 0.6385 - accuracy: 0.6835 - val_loss: 0.6839 - val_accuracy: 0.6389\n",
      "Epoch 20/100\n",
      "5/5 [==============================] - 0s 52ms/step - loss: 0.6129 - accuracy: 0.6978 - val_loss: 0.6769 - val_accuracy: 0.5556\n",
      "Epoch 21/100\n",
      "5/5 [==============================] - 0s 54ms/step - loss: 0.6463 - accuracy: 0.6187 - val_loss: 0.6998 - val_accuracy: 0.5833\n",
      "Epoch 22/100\n",
      "5/5 [==============================] - 0s 56ms/step - loss: 0.6590 - accuracy: 0.6547 - val_loss: 0.6717 - val_accuracy: 0.5556\n",
      "Epoch 23/100\n",
      "5/5 [==============================] - 0s 55ms/step - loss: 0.7142 - accuracy: 0.5324 - val_loss: 0.6751 - val_accuracy: 0.5556\n",
      "Epoch 24/100\n",
      "5/5 [==============================] - 0s 50ms/step - loss: 0.6438 - accuracy: 0.6547 - val_loss: 0.7075 - val_accuracy: 0.5000\n",
      "Epoch 25/100\n",
      "5/5 [==============================] - 0s 52ms/step - loss: 0.6542 - accuracy: 0.6115 - val_loss: 0.6713 - val_accuracy: 0.6944\n",
      "Epoch 26/100\n",
      "5/5 [==============================] - 0s 59ms/step - loss: 0.6358 - accuracy: 0.6619 - val_loss: 0.6520 - val_accuracy: 0.6667\n",
      "Epoch 27/100\n",
      "5/5 [==============================] - 0s 57ms/step - loss: 0.6444 - accuracy: 0.6259 - val_loss: 0.6536 - val_accuracy: 0.6944\n",
      "Epoch 28/100\n",
      "5/5 [==============================] - 0s 52ms/step - loss: 0.6298 - accuracy: 0.6475 - val_loss: 0.6549 - val_accuracy: 0.6667\n",
      "Epoch 29/100\n",
      "5/5 [==============================] - 0s 53ms/step - loss: 0.6084 - accuracy: 0.6619 - val_loss: 0.6296 - val_accuracy: 0.7500\n",
      "Epoch 30/100\n",
      "5/5 [==============================] - 0s 59ms/step - loss: 0.6243 - accuracy: 0.6763 - val_loss: 0.6235 - val_accuracy: 0.7222\n",
      "Epoch 31/100\n",
      "5/5 [==============================] - 0s 50ms/step - loss: 0.5693 - accuracy: 0.7122 - val_loss: 0.6200 - val_accuracy: 0.6111\n",
      "Epoch 32/100\n",
      "5/5 [==============================] - 0s 57ms/step - loss: 0.5663 - accuracy: 0.7194 - val_loss: 0.6487 - val_accuracy: 0.6944\n",
      "Epoch 33/100\n",
      "5/5 [==============================] - 0s 51ms/step - loss: 0.5852 - accuracy: 0.6691 - val_loss: 0.6707 - val_accuracy: 0.6944\n",
      "Epoch 34/100\n",
      "5/5 [==============================] - 0s 51ms/step - loss: 0.5706 - accuracy: 0.7122 - val_loss: 0.6531 - val_accuracy: 0.6389\n",
      "Epoch 35/100\n",
      "5/5 [==============================] - 0s 57ms/step - loss: 0.5883 - accuracy: 0.6978 - val_loss: 0.6338 - val_accuracy: 0.6111\n",
      "Epoch 36/100\n",
      "5/5 [==============================] - 0s 50ms/step - loss: 0.5584 - accuracy: 0.7194 - val_loss: 0.6259 - val_accuracy: 0.6389\n",
      "Epoch 37/100\n",
      "5/5 [==============================] - 0s 50ms/step - loss: 0.5726 - accuracy: 0.7266 - val_loss: 0.6495 - val_accuracy: 0.6389\n",
      "Epoch 38/100\n",
      "5/5 [==============================] - 0s 49ms/step - loss: 0.5735 - accuracy: 0.6906 - val_loss: 0.7088 - val_accuracy: 0.6111\n",
      "Epoch 39/100\n",
      "5/5 [==============================] - 0s 53ms/step - loss: 0.5515 - accuracy: 0.6978 - val_loss: 0.6613 - val_accuracy: 0.6111\n",
      "Epoch 40/100\n",
      "5/5 [==============================] - 0s 56ms/step - loss: 0.5573 - accuracy: 0.6906 - val_loss: 0.6320 - val_accuracy: 0.6667\n",
      "Epoch 41/100\n",
      "5/5 [==============================] - 0s 55ms/step - loss: 0.5439 - accuracy: 0.7266 - val_loss: 0.6000 - val_accuracy: 0.6667\n",
      "Epoch 42/100\n",
      "5/5 [==============================] - 0s 50ms/step - loss: 0.5328 - accuracy: 0.7626 - val_loss: 0.6127 - val_accuracy: 0.6389\n",
      "Epoch 43/100\n",
      "5/5 [==============================] - 0s 52ms/step - loss: 0.5459 - accuracy: 0.7194 - val_loss: 0.6463 - val_accuracy: 0.5833\n",
      "Epoch 44/100\n",
      "5/5 [==============================] - 0s 50ms/step - loss: 0.5217 - accuracy: 0.6835 - val_loss: 0.6454 - val_accuracy: 0.6944\n",
      "Epoch 45/100\n",
      "5/5 [==============================] - 0s 52ms/step - loss: 0.5549 - accuracy: 0.7266 - val_loss: 0.6283 - val_accuracy: 0.6389\n",
      "Epoch 46/100\n",
      "5/5 [==============================] - 0s 50ms/step - loss: 0.5647 - accuracy: 0.7050 - val_loss: 0.6393 - val_accuracy: 0.6944\n",
      "Epoch 47/100\n",
      "5/5 [==============================] - 0s 56ms/step - loss: 0.5305 - accuracy: 0.7338 - val_loss: 0.6583 - val_accuracy: 0.6111\n",
      "Epoch 48/100\n",
      "5/5 [==============================] - 0s 51ms/step - loss: 0.5554 - accuracy: 0.7050 - val_loss: 0.6366 - val_accuracy: 0.6389\n",
      "Epoch 49/100\n",
      "5/5 [==============================] - 0s 52ms/step - loss: 0.5308 - accuracy: 0.7050 - val_loss: 0.6255 - val_accuracy: 0.7222\n",
      "Epoch 50/100\n",
      "5/5 [==============================] - 0s 51ms/step - loss: 0.5275 - accuracy: 0.7050 - val_loss: 0.6277 - val_accuracy: 0.6944\n",
      "Epoch 51/100\n",
      "5/5 [==============================] - 0s 56ms/step - loss: 0.4991 - accuracy: 0.7410 - val_loss: 0.6355 - val_accuracy: 0.6667\n",
      "Epoch 52/100\n",
      "5/5 [==============================] - 0s 53ms/step - loss: 0.4808 - accuracy: 0.7770 - val_loss: 0.6635 - val_accuracy: 0.6944\n",
      "Epoch 53/100\n",
      "5/5 [==============================] - 0s 56ms/step - loss: 0.4979 - accuracy: 0.7554 - val_loss: 0.6820 - val_accuracy: 0.6944\n",
      "Epoch 54/100\n",
      "5/5 [==============================] - 0s 51ms/step - loss: 0.5275 - accuracy: 0.7122 - val_loss: 0.6258 - val_accuracy: 0.6944\n",
      "Epoch 55/100\n",
      "5/5 [==============================] - 0s 51ms/step - loss: 0.5069 - accuracy: 0.7266 - val_loss: 0.6090 - val_accuracy: 0.7222\n",
      "Epoch 56/100\n",
      "5/5 [==============================] - 0s 52ms/step - loss: 0.5394 - accuracy: 0.6763 - val_loss: 0.5944 - val_accuracy: 0.7222\n",
      "Epoch 57/100\n",
      "5/5 [==============================] - 0s 60ms/step - loss: 0.4552 - accuracy: 0.7914 - val_loss: 0.6483 - val_accuracy: 0.6944\n",
      "Epoch 58/100\n",
      "5/5 [==============================] - 0s 56ms/step - loss: 0.4631 - accuracy: 0.7482 - val_loss: 0.6661 - val_accuracy: 0.7222\n",
      "Epoch 59/100\n",
      "5/5 [==============================] - 0s 50ms/step - loss: 0.4863 - accuracy: 0.7770 - val_loss: 0.6662 - val_accuracy: 0.6944\n",
      "Epoch 60/100\n",
      "5/5 [==============================] - 0s 52ms/step - loss: 0.4756 - accuracy: 0.7698 - val_loss: 0.7436 - val_accuracy: 0.6944\n",
      "Epoch 61/100\n",
      "5/5 [==============================] - 0s 54ms/step - loss: 0.5023 - accuracy: 0.7554 - val_loss: 0.6859 - val_accuracy: 0.6667\n",
      "Epoch 62/100\n",
      "5/5 [==============================] - 0s 59ms/step - loss: 0.4924 - accuracy: 0.7050 - val_loss: 0.6083 - val_accuracy: 0.6667\n",
      "Epoch 63/100\n",
      "5/5 [==============================] - 0s 52ms/step - loss: 0.4732 - accuracy: 0.7266 - val_loss: 0.6280 - val_accuracy: 0.6667\n",
      "Epoch 64/100\n",
      "5/5 [==============================] - 0s 62ms/step - loss: 0.4414 - accuracy: 0.8417 - val_loss: 0.6389 - val_accuracy: 0.7222\n",
      "Epoch 65/100\n",
      "5/5 [==============================] - 0s 56ms/step - loss: 0.4557 - accuracy: 0.7626 - val_loss: 0.6336 - val_accuracy: 0.7222\n",
      "Epoch 66/100\n",
      "5/5 [==============================] - 0s 54ms/step - loss: 0.4783 - accuracy: 0.7482 - val_loss: 0.6056 - val_accuracy: 0.7500\n",
      "Epoch 67/100\n",
      "5/5 [==============================] - 0s 54ms/step - loss: 0.5141 - accuracy: 0.7266 - val_loss: 0.5885 - val_accuracy: 0.7222\n",
      "Epoch 68/100\n",
      "5/5 [==============================] - 0s 62ms/step - loss: 0.4709 - accuracy: 0.7698 - val_loss: 0.6765 - val_accuracy: 0.6389\n",
      "Epoch 69/100\n",
      "5/5 [==============================] - 0s 56ms/step - loss: 0.4607 - accuracy: 0.7554 - val_loss: 0.5483 - val_accuracy: 0.6944\n",
      "Epoch 70/100\n",
      "5/5 [==============================] - 0s 57ms/step - loss: 0.4694 - accuracy: 0.7626 - val_loss: 0.6081 - val_accuracy: 0.6667\n",
      "Epoch 71/100\n",
      "5/5 [==============================] - 0s 62ms/step - loss: 0.4530 - accuracy: 0.7482 - val_loss: 0.6213 - val_accuracy: 0.6667\n",
      "Epoch 72/100\n",
      "5/5 [==============================] - 0s 52ms/step - loss: 0.5339 - accuracy: 0.7338 - val_loss: 0.5899 - val_accuracy: 0.7500\n",
      "Epoch 73/100\n",
      "5/5 [==============================] - 0s 55ms/step - loss: 0.4240 - accuracy: 0.8129 - val_loss: 0.5561 - val_accuracy: 0.7222\n",
      "Epoch 74/100\n",
      "5/5 [==============================] - 0s 53ms/step - loss: 0.4428 - accuracy: 0.7698 - val_loss: 0.5496 - val_accuracy: 0.7500\n",
      "Epoch 75/100\n",
      "5/5 [==============================] - 0s 54ms/step - loss: 0.4261 - accuracy: 0.8273 - val_loss: 0.5848 - val_accuracy: 0.7222\n",
      "Epoch 76/100\n",
      "5/5 [==============================] - 0s 54ms/step - loss: 0.4190 - accuracy: 0.7842 - val_loss: 0.5601 - val_accuracy: 0.7500\n",
      "Epoch 77/100\n",
      "5/5 [==============================] - 0s 56ms/step - loss: 0.4334 - accuracy: 0.7842 - val_loss: 0.6090 - val_accuracy: 0.6389\n",
      "Epoch 78/100\n",
      "5/5 [==============================] - 0s 52ms/step - loss: 0.4131 - accuracy: 0.8201 - val_loss: 0.5345 - val_accuracy: 0.7500\n",
      "Epoch 79/100\n",
      "5/5 [==============================] - 0s 54ms/step - loss: 0.4810 - accuracy: 0.7482 - val_loss: 0.5244 - val_accuracy: 0.7500\n",
      "Epoch 80/100\n",
      "5/5 [==============================] - 0s 59ms/step - loss: 0.4400 - accuracy: 0.7554 - val_loss: 0.5224 - val_accuracy: 0.7500\n",
      "Epoch 81/100\n",
      "5/5 [==============================] - 0s 56ms/step - loss: 0.4049 - accuracy: 0.7986 - val_loss: 0.5149 - val_accuracy: 0.7778\n",
      "Epoch 82/100\n",
      "5/5 [==============================] - 0s 62ms/step - loss: 0.3869 - accuracy: 0.8273 - val_loss: 0.5753 - val_accuracy: 0.7500\n",
      "Epoch 83/100\n",
      "5/5 [==============================] - 0s 53ms/step - loss: 0.3794 - accuracy: 0.8129 - val_loss: 0.6004 - val_accuracy: 0.7222\n",
      "Epoch 84/100\n",
      "5/5 [==============================] - 0s 53ms/step - loss: 0.3869 - accuracy: 0.7770 - val_loss: 0.5633 - val_accuracy: 0.7500\n",
      "Epoch 85/100\n",
      "5/5 [==============================] - 0s 52ms/step - loss: 0.3551 - accuracy: 0.8201 - val_loss: 0.5748 - val_accuracy: 0.7778\n",
      "Epoch 86/100\n",
      "5/5 [==============================] - 0s 58ms/step - loss: 0.3811 - accuracy: 0.7770 - val_loss: 0.5098 - val_accuracy: 0.7778\n",
      "Epoch 87/100\n",
      "5/5 [==============================] - 0s 54ms/step - loss: 0.3416 - accuracy: 0.8273 - val_loss: 0.5741 - val_accuracy: 0.7778\n",
      "Epoch 88/100\n",
      "5/5 [==============================] - 0s 54ms/step - loss: 0.3783 - accuracy: 0.8273 - val_loss: 0.4723 - val_accuracy: 0.7778\n",
      "Epoch 89/100\n",
      "5/5 [==============================] - 0s 57ms/step - loss: 0.3535 - accuracy: 0.8273 - val_loss: 0.4487 - val_accuracy: 0.7778\n",
      "Epoch 90/100\n",
      "5/5 [==============================] - 0s 54ms/step - loss: 0.4559 - accuracy: 0.8058 - val_loss: 0.4150 - val_accuracy: 0.8056\n",
      "Epoch 91/100\n",
      "5/5 [==============================] - 0s 64ms/step - loss: 0.3798 - accuracy: 0.8201 - val_loss: 0.4820 - val_accuracy: 0.7778\n",
      "Epoch 92/100\n",
      "5/5 [==============================] - 0s 53ms/step - loss: 0.3903 - accuracy: 0.8129 - val_loss: 0.4490 - val_accuracy: 0.8056\n",
      "Epoch 93/100\n",
      "5/5 [==============================] - 0s 65ms/step - loss: 0.4215 - accuracy: 0.8058 - val_loss: 0.5188 - val_accuracy: 0.8056\n",
      "Epoch 94/100\n",
      "5/5 [==============================] - 0s 64ms/step - loss: 0.3684 - accuracy: 0.8345 - val_loss: 0.4062 - val_accuracy: 0.8056\n",
      "Epoch 95/100\n",
      "5/5 [==============================] - 0s 61ms/step - loss: 0.3667 - accuracy: 0.8129 - val_loss: 0.3944 - val_accuracy: 0.8611\n",
      "Epoch 96/100\n",
      "5/5 [==============================] - 0s 63ms/step - loss: 0.3585 - accuracy: 0.8417 - val_loss: 0.4624 - val_accuracy: 0.8333\n",
      "Epoch 97/100\n",
      "5/5 [==============================] - 0s 62ms/step - loss: 0.3326 - accuracy: 0.8705 - val_loss: 0.4395 - val_accuracy: 0.8333\n",
      "Epoch 98/100\n",
      "5/5 [==============================] - 0s 55ms/step - loss: 0.4403 - accuracy: 0.7554 - val_loss: 0.4544 - val_accuracy: 0.8056\n",
      "Epoch 99/100\n",
      "5/5 [==============================] - 0s 55ms/step - loss: 0.3433 - accuracy: 0.8849 - val_loss: 0.3644 - val_accuracy: 0.8333\n",
      "Epoch 100/100\n",
      "5/5 [==============================] - 0s 54ms/step - loss: 0.3175 - accuracy: 0.8561 - val_loss: 0.4405 - val_accuracy: 0.8611\n"
     ]
    }
   ],
   "source": [
    "history = cnn.fit(train_data,\n",
    "batch_size=8,\n",
    "epochs=100,\n",
    "validation_data=(x_test, y_test))"
   ]
  },
  {
   "cell_type": "code",
   "execution_count": 23,
   "metadata": {},
   "outputs": [
    {
     "data": {
      "text/plain": [
       "<AxesSubplot:>"
      ]
     },
     "execution_count": 23,
     "metadata": {},
     "output_type": "execute_result"
    },
    {
     "data": {
      "image/png": "[encoded data removed]",
      "text/plain": [
       "<Figure size 432x288 with 1 Axes>"
      ]
     },
     "metadata": {
      "needs_background": "light"
     },
     "output_type": "display_data"
    },
    {
     "data": {
      "image/png": "[encoded data removed]",
      "text/plain": [
       "<Figure size 432x288 with 1 Axes>"
      ]
     },
     "metadata": {
      "needs_background": "light"
     },
     "output_type": "display_data"
    }
   ],
   "source": [
    "losses = pd.DataFrame(cnn.history.history)\n",
    "losses[['loss','val_loss']].plot()\n",
    "losses[['accuracy','val_accuracy']].plot()"
   ]
  },
  {
   "cell_type": "code",
   "execution_count": 32,
   "metadata": {},
   "outputs": [
    {
     "name": "stdout",
     "output_type": "stream",
     "text": [
      "2/2 [==============================] - 0s 7ms/step - loss: 0.4405 - accuracy: 0.8611\n",
      "[0.44050735235214233, 0.8611111044883728]\n",
      "2/2 [==============================] - 0s 5ms/step\n",
      "              precision    recall  f1-score   support\n",
      "\n",
      "           0       0.78      1.00      0.88        18\n",
      "           1       1.00      0.72      0.84        18\n",
      "\n",
      "    accuracy                           0.86        36\n",
      "   macro avg       0.89      0.86      0.86        36\n",
      "weighted avg       0.89      0.86      0.86        36\n",
      "\n"
     ]
    }
   ],
   "source": [
    "# Prints out test loss and accuracy\n",
    "results_test = cnn.evaluate(x_test, y_test)\n",
    "print(results_test)\n",
    "# Creates a classification report showing your accuracy, recall, f1.\n",
    "y_pred = cnn.predict(x_test)\n",
    "y_predict = np.round(y_pred).astype(int)\n",
    "print(classification_report(y_test, y_predict))\n",
    "# print(confusion_matrix(y_test, y_predict))"
   ]
  },
  {
   "cell_type": "code",
   "execution_count": 33,
   "metadata": {},
   "outputs": [
    {
     "ename": "TypeError",
     "evalue": "'numpy.float64' object is not callable",
     "output_type": "error",
     "traceback": [
      "\u001b[1;31m---------------------------------------------------------------------------\u001b[0m",
      "\u001b[1;31mTypeError\u001b[0m                                 Traceback (most recent call last)",
      "\u001b[1;32m<ipython-input-33-0dfc87ab65bd>\u001b[0m in \u001b[0;36m<module>\u001b[1;34m\u001b[0m\n\u001b[0;32m      3\u001b[0m \u001b[1;31m#preds = cnn.predict(x_test)\u001b[0m\u001b[1;33m\u001b[0m\u001b[1;33m\u001b[0m\u001b[1;33m\u001b[0m\u001b[0m\n\u001b[0;32m      4\u001b[0m \u001b[0mfpr\u001b[0m\u001b[1;33m,\u001b[0m \u001b[0mtpr\u001b[0m\u001b[1;33m,\u001b[0m \u001b[0mthreshold\u001b[0m \u001b[1;33m=\u001b[0m \u001b[0mroc_curve\u001b[0m\u001b[1;33m(\u001b[0m\u001b[0my_test\u001b[0m\u001b[1;33m,\u001b[0m \u001b[0my_pred\u001b[0m\u001b[1;33m)\u001b[0m\u001b[1;33m\u001b[0m\u001b[1;33m\u001b[0m\u001b[0m\n\u001b[1;32m----> 5\u001b[1;33m \u001b[0mroc_auc\u001b[0m \u001b[1;33m=\u001b[0m \u001b[0mauc\u001b[0m\u001b[1;33m(\u001b[0m\u001b[0mfpr\u001b[0m\u001b[1;33m,\u001b[0m \u001b[0mtpr\u001b[0m\u001b[1;33m)\u001b[0m\u001b[1;33m\u001b[0m\u001b[1;33m\u001b[0m\u001b[0m\n\u001b[0m",
      "\u001b[1;31mTypeError\u001b[0m: 'numpy.float64' object is not callable"
     ]
    }
   ],
   "source": [
    "#ROC dan AUC\n",
    "\n",
    "#preds = cnn.predict(x_test)\n",
    "fpr, tpr, threshold = roc_curve(y_test, y_pred)\n",
    "roc_auc = auc(fpr, tpr)"
   ]
  },
  {
   "cell_type": "code",
   "execution_count": 34,
   "metadata": {},
   "outputs": [
    {
     "data": {
      "image/png": "[encoded data removed]",
      "text/plain": [
       "<Figure size 432x288 with 1 Axes>"
      ]
     },
     "metadata": {
      "needs_background": "light"
     },
     "output_type": "display_data"
    }
   ],
   "source": [
    "plt.figure(1)\n",
    "plt.plot([0, 1], [0, 1], 'k--')\n",
    "plt.plot(fpr, tpr, label='AUC = {:.3f}'.format(roc_auc))\n",
    "plt.xlabel('False positive rate')\n",
    "plt.ylabel('True positive rate')\n",
    "plt.title('ROC curve')\n",
    "plt.legend(loc='best')\n",
    "plt.show()"
   ]
  },
  {
   "cell_type": "code",
   "execution_count": 19,
   "metadata": {},
   "outputs": [
    {
     "ename": "NameError",
     "evalue": "name 'cnn' is not defined",
     "output_type": "error",
     "traceback": [
      "\u001b[1;31m---------------------------------------------------------------------------\u001b[0m",
      "\u001b[1;31mNameError\u001b[0m                                 Traceback (most recent call last)",
      "\u001b[1;32m<ipython-input-19-2cc90099ea2c>\u001b[0m in \u001b[0;36m<module>\u001b[1;34m\u001b[0m\n\u001b[0;32m      1\u001b[0m \u001b[1;31m#Save model\u001b[0m\u001b[1;33m\u001b[0m\u001b[1;33m\u001b[0m\u001b[1;33m\u001b[0m\u001b[0m\n\u001b[1;32m----> 2\u001b[1;33m \u001b[0mcnn\u001b[0m\u001b[1;33m.\u001b[0m\u001b[0msave\u001b[0m\u001b[1;33m(\u001b[0m\u001b[1;34m'cnn_final.h5'\u001b[0m\u001b[1;33m)\u001b[0m\u001b[1;33m\u001b[0m\u001b[1;33m\u001b[0m\u001b[0m\n\u001b[0m",
      "\u001b[1;31mNameError\u001b[0m: name 'cnn' is not defined"
     ]
    }
   ],
   "source": [
    "#Save model\n",
    "cnn.save('cnn_final.h5')"
   ]
  },
  {
   "cell_type": "code",
   "execution_count": null,
   "metadata": {},
   "outputs": [],
   "source": []
  }
 ],
 "metadata": {
  "kernelspec": {
   "display_name": "Python 3.9.0 64-bit",
   "language": "python",
   "name": "python3"
  },
  "language_info": {
   "codemirror_mode": {
    "name": "ipython",
    "version": 3
   },
   "file_extension": ".py",
   "mimetype": "text/x-python",
   "name": "python",
   "nbconvert_exporter": "python",
   "pygments_lexer": "ipython3",
   "version": "3.9.0 (tags/v3.9.0:9cf6752, Oct  5 2020, 15:34:40) [MSC v.1927 64 bit (AMD64)]"
  },
  "orig_nbformat": 4,
  "vscode": {
   "interpreter": {
    "hash": "005f91c35f334889d9bcc0108a4280eae9719191ea748edfbbff9620a71a3376"
   }
  }
 },
 "nbformat": 4,
 "nbformat_minor": 2
}
